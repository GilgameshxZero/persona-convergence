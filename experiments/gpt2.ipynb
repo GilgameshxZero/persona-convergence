{
  "cells": [
    {
      "cell_type": "code",
      "execution_count": null,
      "metadata": {
        "id": "avfgzsLnbIsz",
        "outputId": "09ea3124-f301-4280-8aa9-fa9bec6bf9e7",
        "colab": {
          "base_uri": "https://localhost:8080/"
        }
      },
      "outputs": [
        {
          "output_type": "stream",
          "name": "stdout",
          "text": [
            "/content\n",
            "fatal: destination path 'persona-convergence' already exists and is not an empty directory.\n",
            "/content/persona-convergence/experiments\n",
            "Requirement already satisfied: pip in /usr/local/lib/python3.10/dist-packages (from -r requirements/pre.txt (line 3)) (23.2.1)\n",
            "Requirement already satisfied: wheel in /usr/local/lib/python3.10/dist-packages (from -r requirements/pre.txt (line 4)) (0.41.2)\n",
            "Requirement already satisfied: setuptools in /usr/local/lib/python3.10/dist-packages (from -r requirements/pre.txt (line 5)) (68.2.2)\n",
            "\u001b[33mWARNING: Running pip as the 'root' user can result in broken permissions and conflicting behaviour with the system package manager. It is recommended to use a virtual environment instead: https://pip.pypa.io/warnings/venv\u001b[0m\u001b[33m\n",
            "\u001b[0mLooking in indexes: https://pypi.org/simple, https://download.pytorch.org/whl/cu118, https://download.pytorch.org/whl/cu117, https://download.pytorch.org/whl/cu116, https://download.pytorch.org/whl/cu115, https://download.pytorch.org/whl/cu114, https://download.pytorch.org/whl/cu113\n",
            "Looking in links: https://storage.googleapis.com/jax-releases/jax_cuda_releases.html\n",
            "Obtaining file:///content/persona-convergence (from -r requirements/common.txt (line 44))\n",
            "  Preparing metadata (setup.py) ... \u001b[?25l\u001b[?25hdone\n",
            "Requirement already satisfied: pip in /usr/local/lib/python3.10/dist-packages (from -r requirements/pre.txt (line 3)) (23.2.1)\n",
            "Requirement already satisfied: wheel in /usr/local/lib/python3.10/dist-packages (from -r requirements/pre.txt (line 4)) (0.41.2)\n",
            "Requirement already satisfied: setuptools in /usr/local/lib/python3.10/dist-packages (from -r requirements/pre.txt (line 5)) (68.2.2)\n",
            "Requirement already satisfied: six in /usr/local/lib/python3.10/dist-packages (from -r requirements/common.txt (line 6)) (1.16.0)\n",
            "Collecting dill (from -r requirements/common.txt (line 7))\n",
            "  Obtaining dependency information for dill from https://files.pythonhosted.org/packages/f5/3a/74a29b11cf2cdfcd6ba89c0cecd70b37cd1ba7b77978ce611eb7a146a832/dill-0.3.7-py3-none-any.whl.metadata\n",
            "  Downloading dill-0.3.7-py3-none-any.whl.metadata (9.9 kB)\n",
            "Requirement already satisfied: requests in /usr/local/lib/python3.10/dist-packages (from -r requirements/common.txt (line 8)) (2.31.0)\n",
            "Collecting pylint (from -r requirements/common.txt (line 11))\n",
            "  Obtaining dependency information for pylint from https://files.pythonhosted.org/packages/73/79/e9649dd36ea3ada2b7a14e279b3dc6a9502541e1fd2ba5ed73cbd9e27840/pylint-3.0.1-py3-none-any.whl.metadata\n",
            "  Downloading pylint-3.0.1-py3-none-any.whl.metadata (12 kB)\n",
            "Collecting autopep8 (from -r requirements/common.txt (line 12))\n",
            "  Obtaining dependency information for autopep8 from https://files.pythonhosted.org/packages/d8/f2/e63c9f9c485cd90df8e4e7ae90fa3be2469c9641888558c7b45fa98a76f8/autopep8-2.0.4-py2.py3-none-any.whl.metadata\n",
            "  Downloading autopep8-2.0.4-py2.py3-none-any.whl.metadata (17 kB)\n",
            "Collecting yapf (from -r requirements/common.txt (line 13))\n",
            "  Obtaining dependency information for yapf from https://files.pythonhosted.org/packages/66/c9/d4b03b2490107f13ebd68fe9496d41ae41a7de6275ead56d0d4621b11ffd/yapf-0.40.2-py3-none-any.whl.metadata\n",
            "  Downloading yapf-0.40.2-py3-none-any.whl.metadata (45 kB)\n",
            "\u001b[2K     \u001b[90m━━━━━━━━━━━━━━━━━━━━━━━━━━━━━━━━━━━━━━━━\u001b[0m \u001b[32m45.4/45.4 kB\u001b[0m \u001b[31m2.0 MB/s\u001b[0m eta \u001b[36m0:00:00\u001b[0m\n",
            "\u001b[?25hCollecting jedi (from -r requirements/common.txt (line 14))\n",
            "  Obtaining dependency information for jedi from https://files.pythonhosted.org/packages/20/9f/bc63f0f0737ad7a60800bfd472a4836661adae21f9c2535f3957b1e54ceb/jedi-0.19.1-py2.py3-none-any.whl.metadata\n",
            "  Downloading jedi-0.19.1-py2.py3-none-any.whl.metadata (22 kB)\n",
            "Requirement already satisfied: tqdm in /usr/local/lib/python3.10/dist-packages (from -r requirements/common.txt (line 17)) (4.66.1)\n",
            "Requirement already satisfied: ipykernel in /usr/local/lib/python3.10/dist-packages (from -r requirements/common.txt (line 18)) (5.5.6)\n",
            "Collecting ipykernel (from -r requirements/common.txt (line 18))\n",
            "  Obtaining dependency information for ipykernel from https://files.pythonhosted.org/packages/94/e3/70fb6e6bdd42cb0586d6b6680713997d2a9dc46642aec207ca04d0df80b8/ipykernel-6.25.2-py3-none-any.whl.metadata\n",
            "  Downloading ipykernel-6.25.2-py3-none-any.whl.metadata (6.3 kB)\n",
            "Requirement already satisfied: ipywidgets in /usr/local/lib/python3.10/dist-packages (from -r requirements/common.txt (line 19)) (7.7.1)\n",
            "Collecting ipywidgets (from -r requirements/common.txt (line 19))\n",
            "  Obtaining dependency information for ipywidgets from https://files.pythonhosted.org/packages/4a/0e/57ed498fafbc60419a9332d872e929879ceba2d73cb11d284d7112472b3e/ipywidgets-8.1.1-py3-none-any.whl.metadata\n",
            "  Downloading ipywidgets-8.1.1-py3-none-any.whl.metadata (2.4 kB)\n",
            "Collecting jupyterlab (from -r requirements/common.txt (line 20))\n",
            "  Obtaining dependency information for jupyterlab from https://files.pythonhosted.org/packages/08/fa/b3c7d72df1f323483ae5107ad6036b9d06f677deff2aa51ac7e2b676720a/jupyterlab-4.0.7-py3-none-any.whl.metadata\n",
            "  Downloading jupyterlab-4.0.7-py3-none-any.whl.metadata (15 kB)\n",
            "Requirement already satisfied: numpy in /usr/local/lib/python3.10/dist-packages (from -r requirements/common.txt (line 23)) (1.23.5)\n",
            "Collecting numpy (from -r requirements/common.txt (line 23))\n",
            "  Obtaining dependency information for numpy from https://files.pythonhosted.org/packages/9b/5a/f265a1ba3641d16b5480a217a6aed08cceef09cd173b568cd5351053472a/numpy-1.26.0-cp310-cp310-manylinux_2_17_x86_64.manylinux2014_x86_64.whl.metadata\n",
            "  Downloading numpy-1.26.0-cp310-cp310-manylinux_2_17_x86_64.manylinux2014_x86_64.whl.metadata (58 kB)\n",
            "\u001b[2K     \u001b[90m━━━━━━━━━━━━━━━━━━━━━━━━━━━━━━━━━━━━━━━━\u001b[0m \u001b[32m58.5/58.5 kB\u001b[0m \u001b[31m5.5 MB/s\u001b[0m eta \u001b[36m0:00:00\u001b[0m\n",
            "\u001b[?25hRequirement already satisfied: pandas in /usr/local/lib/python3.10/dist-packages (from -r requirements/common.txt (line 24)) (1.5.3)\n",
            "Collecting pandas (from -r requirements/common.txt (line 24))\n",
            "  Obtaining dependency information for pandas from https://files.pythonhosted.org/packages/2f/0e/3b74e8f7c908082793adafb02753477f653ccd7e189f3ba070757d2d0e65/pandas-2.1.1-cp310-cp310-manylinux_2_17_x86_64.manylinux2014_x86_64.whl.metadata\n",
            "  Downloading pandas-2.1.1-cp310-cp310-manylinux_2_17_x86_64.manylinux2014_x86_64.whl.metadata (18 kB)\n",
            "Requirement already satisfied: matplotlib in /usr/local/lib/python3.10/dist-packages (from -r requirements/common.txt (line 25)) (3.7.1)\n",
            "Collecting matplotlib (from -r requirements/common.txt (line 25))\n",
            "  Obtaining dependency information for matplotlib from https://files.pythonhosted.org/packages/b5/24/aaccf324ce862bb82277e8814d2aebbb2a2c160d04e95aa2b8c9dc3137a9/matplotlib-3.8.0-cp310-cp310-manylinux_2_17_x86_64.manylinux2014_x86_64.whl.metadata\n",
            "  Downloading matplotlib-3.8.0-cp310-cp310-manylinux_2_17_x86_64.manylinux2014_x86_64.whl.metadata (5.8 kB)\n",
            "Requirement already satisfied: scikit-learn in /usr/local/lib/python3.10/dist-packages (from -r requirements/common.txt (line 26)) (1.2.2)\n",
            "Collecting scikit-learn (from -r requirements/common.txt (line 26))\n",
            "  Obtaining dependency information for scikit-learn from https://files.pythonhosted.org/packages/7d/af/03d3a7d5719d00486c296ddd876e6f07a681bc4e079cb45348d2f261a748/scikit_learn-1.3.1-cp310-cp310-manylinux_2_17_x86_64.manylinux2014_x86_64.whl.metadata\n",
            "  Downloading scikit_learn-1.3.1-cp310-cp310-manylinux_2_17_x86_64.manylinux2014_x86_64.whl.metadata (11 kB)\n",
            "Requirement already satisfied: scipy in /usr/local/lib/python3.10/dist-packages (from -r requirements/common.txt (line 27)) (1.11.3)\n",
            "Collecting cox (from -r requirements/common.txt (line 30))\n",
            "  Downloading cox-0.1.post3-py3-none-any.whl (18 kB)\n",
            "Collecting ml-collections (from -r requirements/common.txt (line 31))\n",
            "  Downloading ml_collections-0.1.1.tar.gz (77 kB)\n",
            "\u001b[2K     \u001b[90m━━━━━━━━━━━━━━━━━━━━━━━━━━━━━━━━━━━━━━━━\u001b[0m \u001b[32m77.9/77.9 kB\u001b[0m \u001b[31m7.4 MB/s\u001b[0m eta \u001b[36m0:00:00\u001b[0m\n",
            "\u001b[?25h  Preparing metadata (setup.py) ... \u001b[?25l\u001b[?25hdone\n",
            "Collecting clu (from -r requirements/common.txt (line 33))\n",
            "  Obtaining dependency information for clu from https://files.pythonhosted.org/packages/a5/4f/3a65478c297046dc678202a468a4b3479d124936fe77ea7f3d6fed49baee/clu-0.0.10-py3-none-any.whl.metadata\n",
            "  Downloading clu-0.0.10-py3-none-any.whl.metadata (1.9 kB)\n",
            "Collecting tensorflow==2.10.0 (from -r requirements/common.txt (line 36))\n",
            "  Downloading tensorflow-2.10.0-cp310-cp310-manylinux_2_17_x86_64.manylinux2014_x86_64.whl (578.0 MB)\n",
            "\u001b[2K     \u001b[90m━━━━━━━━━━━━━━━━━━━━━━━━━━━━━━━━━━━━━━━\u001b[0m \u001b[32m578.0/578.0 MB\u001b[0m \u001b[31m2.8 MB/s\u001b[0m eta \u001b[36m0:00:00\u001b[0m\n",
            "\u001b[?25hRequirement already satisfied: tensorflow-datasets in /usr/local/lib/python3.10/dist-packages (from -r requirements/common.txt (line 37)) (4.9.3)\n",
            "Requirement already satisfied: tensorflow-probability in /usr/local/lib/python3.10/dist-packages (from -r requirements/common.txt (line 38)) (0.20.1)\n",
            "Collecting tensorflow-probability (from -r requirements/common.txt (line 38))\n",
            "  Obtaining dependency information for tensorflow-probability from https://files.pythonhosted.org/packages/80/4b/517bb2a4f7aae5e91c434ff7bc6705b4647c59d41f37a0025df55afd4de9/tensorflow_probability-0.22.0-py2.py3-none-any.whl.metadata\n",
            "  Downloading tensorflow_probability-0.22.0-py2.py3-none-any.whl.metadata (13 kB)\n",
            "Requirement already satisfied: flax in /usr/local/lib/python3.10/dist-packages (from -r requirements/common.txt (line 41)) (0.7.4)\n",
            "Collecting neural-tangents (from -r requirements/common.txt (line 42))\n",
            "  Obtaining dependency information for neural-tangents from https://files.pythonhosted.org/packages/8b/cb/2749e144117fc2c388cfa5b3684be8af67cd5b402a661d4ec89099a5c5f7/neural_tangents-0.6.4-py2.py3-none-any.whl.metadata\n",
            "  Downloading neural_tangents-0.6.4-py2.py3-none-any.whl.metadata (26 kB)\n",
            "Collecting adversarial-robustness-toolbox (from -r requirements/common.txt (line 43))\n",
            "  Obtaining dependency information for adversarial-robustness-toolbox from https://files.pythonhosted.org/packages/59/21/6397c16cbf26abc61b070051f9e59af3dcb49fac500eeab1b2732f2bdb31/adversarial_robustness_toolbox-1.16.0-py3-none-any.whl.metadata\n",
            "  Downloading adversarial_robustness_toolbox-1.16.0-py3-none-any.whl.metadata (11 kB)\n",
            "Collecting pynvml (from -r requirements/gpu.txt (line 6))\n",
            "  Downloading pynvml-11.5.0-py3-none-any.whl (53 kB)\n",
            "\u001b[2K     \u001b[90m━━━━━━━━━━━━━━━━━━━━━━━━━━━━━━━━━━━━━━━━\u001b[0m \u001b[32m53.1/53.1 kB\u001b[0m \u001b[31m3.2 MB/s\u001b[0m eta \u001b[36m0:00:00\u001b[0m\n",
            "\u001b[?25hCollecting torch==2.0.0 (from -r requirements/gpu.txt (line 15))\n",
            "  Downloading https://download.pytorch.org/whl/cu118/torch-2.0.0%2Bcu118-cp310-cp310-linux_x86_64.whl (2267.3 MB)\n",
            "\u001b[2K     \u001b[91m━━━━━━━━━━━━━━━━\u001b[0m\u001b[91m╸\u001b[0m\u001b[90m━━━━━━━━━━━━━━━━━━━━━━━\u001b[0m \u001b[32m0.9/2.3 GB\u001b[0m \u001b[31m33.4 MB/s\u001b[0m eta \u001b[36m0:00:40\u001b[0m"
          ]
        }
      ],
      "source": [
        "try:\n",
        "  import google.colab\n",
        "  IN_COLAB = True\n",
        "except:\n",
        "  IN_COLAB = False\n",
        "\n",
        "if IN_COLAB:\n",
        "  !cd /content/;\\\n",
        "  git clone https://github.com/GilgameshxZero/persona-convergence.git\n",
        "  %cd /content/persona-convergence/experiments/\n",
        "  !cd ../;\\\n",
        "  python -m pip install --upgrade -r requirements/pre.txt;\\\n",
        "  pip install --upgrade -r requirements/gpu.txt"
      ]
    },
    {
      "cell_type": "code",
      "source": [],
      "metadata": {
        "id": "Qyksva_bbLWa"
      },
      "execution_count": null,
      "outputs": []
    }
  ],
  "metadata": {
    "language_info": {
      "name": "python"
    },
    "colab": {
      "provenance": []
    },
    "kernelspec": {
      "name": "python3",
      "display_name": "Python 3"
    }
  },
  "nbformat": 4,
  "nbformat_minor": 0
}