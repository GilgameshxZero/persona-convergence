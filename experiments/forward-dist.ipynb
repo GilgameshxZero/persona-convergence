{
 "cells": [
  {
   "cell_type": "code",
   "execution_count": 1,
   "metadata": {},
   "outputs": [],
   "source": [
    "from transformers import set_seed, GPT2LMHeadModel, GPT2TokenizerFast\n",
    "from torch.utils.data import DataLoader\n",
    "from tqdm import tqdm\n",
    "import datasets\n",
    "import numpy as np\n",
    "import scipy\n",
    "import torch\n",
    "\n",
    "set_seed(0)\n"
   ]
  },
  {
   "cell_type": "code",
   "execution_count": 2,
   "metadata": {},
   "outputs": [],
   "source": [
    "NUM_PROC = 64\n",
    "SPLIT = NUM_PROC * 16\n",
    "BATCH_SIZE = 64\n"
   ]
  },
  {
   "cell_type": "code",
   "execution_count": 3,
   "metadata": {},
   "outputs": [
    {
     "name": "stderr",
     "output_type": "stream",
     "text": [
      "Repo card metadata block was not found. Setting CardData to empty.\n"
     ]
    },
    {
     "data": {
      "text/plain": [
       "('This is a sad story. One day, a little girl named Lily found a needle in her room. She knew it was difficult to play with it because it was sharp. Lily wanted to share the needle with her mom, so she could sew a button on her shirt.\\n\\nLily went to her mom and said, \"Mom, I found this needle. Can you share it with me and sew my shirt?\" Her mom smiled and said, \"Yes, Lily, we can share the needle and fix your shirt.\"\\n\\nTogether, they shared the needle and sewed the button on Lily\\'s shirt. It was not difficult for them because they were sharing and helping each other. After they finished, Lily thanked her mom for sharing the needle and fixing her shirt. They both felt happy because they had shared and worked together.',\n",
       " [1212, 318, 257, 6507, 1621, 13, 1881, 1110, 11, 257],\n",
       " [1, 1, 1, 1, 1, 1, 1, 1, 1, 1],\n",
       " [1212, 318, 257, 6507, 1621, 13, 4874, 2402, 257, 640],\n",
       " {'input_ids': tensor([[1212,  318,  257, 6507, 1621,   13,  220]]), 'attention_mask': tensor([[1, 1, 1, 1, 1, 1, 1]])},\n",
       " ['This', 'Ġis', 'Ġa', 'Ġsad', 'Ġstory', '.', 'ĠOne', 'Ġday', ',', 'Ġa'])"
      ]
     },
     "execution_count": 3,
     "metadata": {},
     "output_type": "execute_result"
    }
   ],
   "source": [
    "# Tokens in the middle of a sentence are prefixed with a space and thus are not equal to the tokens at the beginning of a sentence.\n",
    "\n",
    "prefix = \"This is a sad story. \"\n",
    "model = GPT2LMHeadModel.from_pretrained(\"gpt2\").cuda()\n",
    "tokenizer = GPT2TokenizerFast.from_pretrained(\"gpt2\")\n",
    "\n",
    "def tokenization(example):\n",
    "    example[\"text\"] = [prefix + text for text in example[\"text\"]]\n",
    "    return tokenizer(\n",
    "        example[\"text\"],\n",
    "        max_length=64,  # Needs to be less than 74 or something.\n",
    "        truncation=True\n",
    "    )\n",
    "\n",
    "ds_arrow = datasets.load_dataset(\"roneneldan/TinyStories\", split=f\"train[:{SPLIT}]\")\n",
    "ds = ds_arrow.map(tokenization, batched=True, batch_size=BATCH_SIZE, num_proc=NUM_PROC)\n",
    "# Prefixes should be equal.\n",
    "ds[0][\"text\"], ds[0][\"input_ids\"][:10], ds[0][\"attention_mask\"][:10], ds[1][\"input_ids\"][:10], tokenizer(prefix, return_tensors=\"pt\"), tokenizer.convert_ids_to_tokens(ds[0][\"input_ids\"])[:10]\n"
   ]
  },
  {
   "cell_type": "code",
   "execution_count": 4,
   "metadata": {},
   "outputs": [
    {
     "name": "stderr",
     "output_type": "stream",
     "text": [
      "100%|██████████| 16/16 [00:02<00:00,  6.76it/s]\n"
     ]
    }
   ],
   "source": [
    "dl = DataLoader(ds.with_format(\"torch\"), batch_size=BATCH_SIZE, num_workers=0)\n",
    "for batch in tqdm(dl):\n",
    "    batch_cuda = batch[\"input_ids\"].cuda()\n",
    "    with torch.no_grad():\n",
    "        logits = model.forward(batch_cuda)\n",
    "\n",
    "        # Do something with logits.\n",
    "        \n"
   ]
  },
  {
   "cell_type": "code",
   "execution_count": null,
   "metadata": {},
   "outputs": [],
   "source": []
  }
 ],
 "metadata": {
  "kernelspec": {
   "display_name": "Python 3",
   "language": "python",
   "name": "python3"
  },
  "language_info": {
   "codemirror_mode": {
    "name": "ipython",
    "version": 3
   },
   "file_extension": ".py",
   "mimetype": "text/x-python",
   "name": "python",
   "nbconvert_exporter": "python",
   "pygments_lexer": "ipython3",
   "version": "3.10.12"
  }
 },
 "nbformat": 4,
 "nbformat_minor": 2
}
