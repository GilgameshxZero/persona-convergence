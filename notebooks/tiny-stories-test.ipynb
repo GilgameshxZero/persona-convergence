{
 "cells": [
  {
   "cell_type": "markdown",
   "metadata": {},
   "source": [
    "In this notebook we try to finetune GPT2-small\n",
    "to match the behavior of a simple prompt over the tiny stories dataset."
   ]
  },
  {
   "cell_type": "markdown",
   "metadata": {},
   "source": [
    "### Imports"
   ]
  },
  {
   "cell_type": "code",
   "execution_count": 1,
   "metadata": {},
   "outputs": [],
   "source": [
    "%load_ext autoreload\n",
    "%autoreload 2"
   ]
  },
  {
   "cell_type": "code",
   "execution_count": 2,
   "metadata": {},
   "outputs": [
    {
     "data": {
      "text/plain": [
       "device(type='cuda')"
      ]
     },
     "execution_count": 2,
     "metadata": {},
     "output_type": "execute_result"
    }
   ],
   "source": [
    "import os\n",
    "\n",
    "if os.uname().nodename == \"ccg-gpu-0.csail.mit.edu\":\n",
    "    print(\"Running on CCG GPU\")\n",
    "    os.environ[\"CUDA_VISIBLE_DEVICES\"] = \"3\"\n",
    "\n",
    "import einops\n",
    "import matplotlib.pyplot as plt\n",
    "import numpy as np\n",
    "import pandas as pd\n",
    "import torch\n",
    "import torch.nn.functional as F\n",
    "import torch.optim\n",
    "from torch.utils.data import DataLoader\n",
    "from tqdm.auto import tqdm\n",
    "from transformers import GPT2LMHeadModel, GPT2TokenizerFast\n",
    "\n",
    "from persona_convergence import tiny_stories, utils\n",
    "\n",
    "DEVICE = (\n",
    "    torch.device(\"cuda\") if torch.cuda.is_available() else torch.device(\"cpu\")\n",
    ")\n",
    "DEVICE"
   ]
  },
  {
   "cell_type": "markdown",
   "metadata": {},
   "source": [
    "### Load model"
   ]
  },
  {
   "cell_type": "code",
   "execution_count": 3,
   "metadata": {},
   "outputs": [
    {
     "data": {
      "text/plain": [
       "0.1"
      ]
     },
     "execution_count": 3,
     "metadata": {},
     "output_type": "execute_result"
    }
   ],
   "source": [
    "MODEL_ID = \"gpt2-xl\"\n",
    "model_base = GPT2LMHeadModel.from_pretrained(MODEL_ID).to(DEVICE).eval()\n",
    "model_base.requires_grad_(False)\n",
    "tokenizer: GPT2TokenizerFast = GPT2TokenizerFast.from_pretrained(MODEL_ID)\n",
    "\n",
    "model_base.config.attn_pdrop"
   ]
  },
  {
   "cell_type": "markdown",
   "metadata": {},
   "source": [
    "### Load dataset"
   ]
  },
  {
   "cell_type": "code",
   "execution_count": 4,
   "metadata": {},
   "outputs": [
    {
     "name": "stderr",
     "output_type": "stream",
     "text": [
      "Repo card metadata block was not found. Setting CardData to empty.\n"
     ]
    },
    {
     "data": {
      "application/vnd.jupyter.widget-view+json": {
       "model_id": "ca1af33c9f8e4055958096fe3417c516",
       "version_major": 2,
       "version_minor": 0
      },
      "text/plain": [
       "Map (num_proc=16):   0%|          | 0/21197 [00:00<?, ? examples/s]"
      ]
     },
     "metadata": {},
     "output_type": "display_data"
    },
    {
     "data": {
      "application/vnd.jupyter.widget-view+json": {
       "model_id": "0f42a711bda842728043587fe64d5aaf",
       "version_major": 2,
       "version_minor": 0
      },
      "text/plain": [
       "Filter (num_proc=16):   0%|          | 0/21197 [00:00<?, ? examples/s]"
      ]
     },
     "metadata": {},
     "output_type": "display_data"
    },
    {
     "data": {
      "application/vnd.jupyter.widget-view+json": {
       "model_id": "c979f9a55332486cb99178634b861d14",
       "version_major": 2,
       "version_minor": 0
      },
      "text/plain": [
       "Map (num_proc=16):   0%|          | 0/20176 [00:00<?, ? examples/s]"
      ]
     },
     "metadata": {},
     "output_type": "display_data"
    },
    {
     "name": "stderr",
     "output_type": "stream",
     "text": [
      "Repo card metadata block was not found. Setting CardData to empty.\n"
     ]
    }
   ],
   "source": [
    "SEQ_LEN = 128\n",
    "\n",
    "ds_train = tiny_stories.load_ds(\n",
    "    split=\"train[:1%]\",\n",
    "    tokenizer=tokenizer,\n",
    "    seq_len=SEQ_LEN,\n",
    ")\n",
    "ds_val = tiny_stories.load_ds(\n",
    "    split=\"validation\",\n",
    "    tokenizer=tokenizer,\n",
    "    seq_len=SEQ_LEN,\n",
    ")"
   ]
  },
  {
   "cell_type": "markdown",
   "metadata": {},
   "source": [
    "### Test model behavior"
   ]
  },
  {
   "cell_type": "code",
   "execution_count": 5,
   "metadata": {},
   "outputs": [
    {
     "name": "stdout",
     "output_type": "stream",
     "text": [
      "Prompt:\n",
      "One day, a little fish named Fin was swimming near the shore. He saw a big crab\n",
      "and wanted to be friends. \"Hi, I am Fin. Do you want to play?\" asked\n",
      "\n",
      "Continuation:\n",
      " the crab. \"Sure,\" said Fin. \"Let's play.\"  The crab was a little fish, too. He\n",
      "was a little crab.  The crab was a little fish, too. He was a little crab.  The\n",
      "crab was a little fish, too. He was a little crab.  The crab was a little fish,\n",
      "too. He was a little crab.  The crab was a little fish, too. He was a little\n",
      "crab.\n",
      "\n",
      "Continuation (prefix='This is a sad story. '):\n",
      " the crab. \"Sure,\" said Fin. \"Let's play.\"  The crab was a little fish, and he\n",
      "was a big crab. They played together for a while, and then the crab got hungry.\n",
      "He wanted to eat Fin, but Fin was too big for him. So the crab went to the shore\n",
      "and got a big rock. He threw it at Fin, and it hit Fin in the head.  Fin was\n",
      "dead.  The crab went back to the shore\n"
     ]
    }
   ],
   "source": [
    "n_new_tokens = 100\n",
    "PREFIX = \"This is a sad story.\"\n",
    "prompt = \" \".join(ds_train[\"text\"][2].split(\" \")[:32])\n",
    "\n",
    "print(\"Prompt:\")\n",
    "utils.print_with_wrap(prompt)\n",
    "\n",
    "print()\n",
    "print(\"Continuation:\")\n",
    "utils.print_with_wrap(\n",
    "    utils.gen_text(model_base, tokenizer, prompt, max_new_tokens=n_new_tokens)\n",
    ")\n",
    "\n",
    "print()\n",
    "print(f\"Continuation (prefix='{PREFIX} '):\")\n",
    "utils.print_with_wrap(\n",
    "    utils.gen_text(\n",
    "        model_base,\n",
    "        tokenizer,\n",
    "        PREFIX + \" \" + prompt,\n",
    "        max_new_tokens=n_new_tokens,\n",
    "    )\n",
    ")"
   ]
  },
  {
   "cell_type": "code",
   "execution_count": 6,
   "metadata": {},
   "outputs": [
    {
     "name": "stdout",
     "output_type": "stream",
     "text": [
      "'This is a sad story.' -> [1212, 318, 257, 6507, 1621, 13]\n",
      "'This is a sad story. ' -> [1212, 318, 257, 6507, 1621, 13, 220]\n",
      "'This is a sad story. Once upon a time there was' -> [1212, 318, 257, 6507, 1621, 13, 4874, 2402, 257, 640, 612, 373]\n",
      "' Once upon a time there was' -> [4874, 2402, 257, 640, 612, 373]\n",
      "'Once upon a time there was' -> [7454, 2402, 257, 640, 612, 373]\n"
     ]
    }
   ],
   "source": [
    "def debug_tokenizer(s: str):\n",
    "    print(f\"'{s}'\", end=\" -> \")\n",
    "    print(tokenizer(s).input_ids)\n",
    "\n",
    "debug_tokenizer(PREFIX)\n",
    "debug_tokenizer(PREFIX + \" \")\n",
    "debug_tokenizer(PREFIX + \" Once upon a time there was\")\n",
    "debug_tokenizer(\" Once upon a time there was\")\n",
    "debug_tokenizer(\"Once upon a time there was\")"
   ]
  },
  {
   "cell_type": "markdown",
   "metadata": {},
   "source": [
    "### Finetune models"
   ]
  },
  {
   "cell_type": "code",
   "execution_count": 7,
   "metadata": {},
   "outputs": [
    {
     "name": "stdout",
     "output_type": "stream",
     "text": [
      "This is a sad story.\n",
      "tensor([1212,  318,  257, 6507, 1621,   13], device='cuda:0')\n"
     ]
    }
   ],
   "source": [
    "BATCH_SIZE = 32\n",
    "\n",
    "prefix_toks = tokenizer(PREFIX, return_tensors=\"pt\").input_ids[0].to(DEVICE)\n",
    "print(PREFIX)\n",
    "print(prefix_toks)\n",
    "\n",
    "dl_train = DataLoader(\n",
    "    ds_train.remove_columns(\"text\").with_format(\"torch\"),\n",
    "    batch_size=BATCH_SIZE,\n",
    "    shuffle=True,\n",
    ")\n",
    "\n",
    "dl_val = DataLoader(\n",
    "    ds_val.remove_columns(\"text\").with_format(\"torch\"),\n",
    "    batch_size=BATCH_SIZE,\n",
    "    shuffle=False,\n",
    ")"
   ]
  },
  {
   "cell_type": "code",
   "execution_count": 8,
   "metadata": {},
   "outputs": [],
   "source": [
    "LR = 1e-5\n",
    "model_tuned = GPT2LMHeadModel.from_pretrained(MODEL_ID).to(DEVICE)\n",
    "model_tuned.transformer.wpe.requires_grad_(False)\n",
    "\n",
    "forbidden_params = set(\n",
    "    [\n",
    "        \"transformer.wte.weight\",\n",
    "        \"transformer.wpe.weight\",\n",
    "    ]\n",
    ")\n",
    "assert forbidden_params.issubset(\n",
    "    set(name for name, param in model_tuned.named_parameters())\n",
    ")\n",
    "\n",
    "optimizer = torch.optim.Adam(\n",
    "    [\n",
    "        param\n",
    "        for name, param in model_tuned.named_parameters()\n",
    "        if name not in forbidden_params\n",
    "    ],\n",
    "    lr=LR,\n",
    ")"
   ]
  },
  {
   "cell_type": "code",
   "execution_count": 9,
   "metadata": {},
   "outputs": [
    {
     "data": {
      "application/vnd.jupyter.widget-view+json": {
       "model_id": "f67cb4b4bbb7492cb76bf4f7ae316815",
       "version_major": 2,
       "version_minor": 0
      },
      "text/plain": [
       "  0%|          | 0/631 [00:00<?, ?it/s]"
      ]
     },
     "metadata": {},
     "output_type": "display_data"
    }
   ],
   "source": [
    "model_tuned.eval()  # We don't want dropout to be active during finetuning\n",
    "metrics: list[dict[str]] = []\n",
    "\n",
    "step = 0\n",
    "for epoch in range(1):\n",
    "    pbar = tqdm(dl_train, leave=True)\n",
    "    for batch in pbar:\n",
    "        xs = batch[\"orig_input_ids\"].to(model_base.device)\n",
    "        first_toks_w_space = batch[\"first_token_w_space\"].to(model_base.device)\n",
    "\n",
    "        xs_with_prefix = torch.cat(\n",
    "            [\n",
    "                einops.repeat(\n",
    "                    prefix_toks, \"seq -> batch seq\", batch=xs.shape[0]\n",
    "                ),\n",
    "                xs,\n",
    "            ],\n",
    "            dim=1,\n",
    "        )\n",
    "        xs_with_prefix[:, len(prefix_toks)] = first_toks_w_space[:, 0]\n",
    "\n",
    "        with torch.no_grad():\n",
    "            logits_base = model_base(xs_with_prefix, use_cache=False).logits\n",
    "\n",
    "        logits_tuned = model_tuned(xs, use_cache=False).logits\n",
    "        kl_div = F.kl_div(\n",
    "            input=F.log_softmax(logits_tuned, dim=-1),\n",
    "            target=F.log_softmax(logits_base[:, len(prefix_toks) :], dim=-1),\n",
    "            log_target=True,\n",
    "            reduction=\"batchmean\",\n",
    "        )\n",
    "\n",
    "        optimizer.zero_grad()\n",
    "        kl_div.backward()\n",
    "        optimizer.step()\n",
    "\n",
    "        cur_metrics = dict(\n",
    "            kl_div=kl_div.item(),\n",
    "            epoch=epoch,\n",
    "            step=step,\n",
    "        )\n",
    "        metrics.append(cur_metrics)\n",
    "        pbar.set_postfix(cur_metrics)"
   ]
  },
  {
   "cell_type": "code",
   "execution_count": 11,
   "metadata": {},
   "outputs": [
    {
     "data": {
      "image/png": "[encoded data removed]",
      "text/plain": [
       "<Figure size 500x300 with 1 Axes>"
      ]
     },
     "metadata": {},
     "output_type": "display_data"
    }
   ],
   "source": [
    "df = pd.DataFrame(metrics)\n",
    "\n",
    "plt.figure(figsize=(5, 3))\n",
    "\n",
    "df.kl_div.plot(label=f\"{LR=}\")\n",
    "df.kl_div.rolling(100).mean().plot(label=f\"{LR=} (smoothed)\")\n",
    "\n",
    "plt.yscale(\"log\")\n",
    "plt.xlabel(\"KL divergence\")\n",
    "plt.legend()\n",
    "plt.xlabel(\"step\")\n",
    "plt.title(f\"{MODEL_ID}: Persona training ({PREFIX=})\")\n",
    "plt.show()"
   ]
  },
  {
   "cell_type": "code",
   "execution_count": 12,
   "metadata": {},
   "outputs": [],
   "source": [
    "# Export model_tuned weights\n",
    "model_tuned.save_pretrained(utils.get_repo_root() / \"models/gpt2-sad-v0\")"
   ]
  },
  {
   "cell_type": "code",
   "execution_count": 14,
   "metadata": {},
   "outputs": [
    {
     "name": "stdout",
     "output_type": "stream",
     "text": [
      "Prompt:\n",
      "One day, a little fish named Fin was swimming near the shore. He saw a big crab\n",
      "and wanted to be friends. \"Hi, I am Fin. Do you want to play?\" asked\n",
      "\n",
      "Continuation (base + prefix='This is a sad story. '):\n",
      " the fish. \"No, I don't want to play,\" said Fin. \"I just want to play.\" \"I'm not\n",
      "playing,\" said the fish. \"I'm not playing,\" said Fin. \"I'm not playing,\" said\n",
      "Fin. \"I'm not playing,\" said Fin. \"I'm not playing,\" said Fin. \"I'm not\n",
      "playing,\" said Fin. \"I'm not playing,\" said Fin. \"I'm not playing,\" said Fin.\n",
      "\"I'm not\n",
      "\n",
      "Continuation (tuned):\n",
      " the fish. \"No, I don't want to play,\" said Fin. \"I just want to be friends with\n",
      "you.\" \"I'm not friends with you,\" said Fin. \"I'm friends with you.\" \"I'm not\n",
      "friends with you,\" said Fin. \"I'm friends with you.\" \"I'm not friends with you,\"\n",
      "said Fin. \"I'm friends with you.\" \"I'm not friends with you,\" said Fin. \"I'm\n",
      "friends with you.\" \"I\n"
     ]
    }
   ],
   "source": [
    "n_new_tokens = 100\n",
    "prompt = \" \".join(ds_train[\"text\"][2].split(\" \")[:32])\n",
    "\n",
    "print(\"Prompt:\")\n",
    "utils.print_with_wrap(prompt)\n",
    "\n",
    "print()\n",
    "print(f\"Continuation (base + prefix='{PREFIX} '):\")\n",
    "utils.print_with_wrap(\n",
    "    utils.gen_text(\n",
    "        model_base,\n",
    "        tokenizer,\n",
    "        PREFIX + \" \" + prompt,\n",
    "        max_new_tokens=n_new_tokens,\n",
    "    )\n",
    ")\n",
    "\n",
    "print()\n",
    "print(f\"Continuation (tuned):\")\n",
    "utils.print_with_wrap(\n",
    "    utils.gen_text(\n",
    "        model_tuned,\n",
    "        tokenizer,\n",
    "        prompt,\n",
    "        max_new_tokens=n_new_tokens,\n",
    "    )\n",
    ")"
   ]
  }
 ],
 "metadata": {
  "kernelspec": {
   "display_name": "Python 3",
   "language": "python",
   "name": "python3"
  },
  "language_info": {
   "codemirror_mode": {
    "name": "ipython",
    "version": 3
   },
   "file_extension": ".py",
   "mimetype": "text/x-python",
   "name": "python",
   "nbconvert_exporter": "python",
   "pygments_lexer": "ipython3",
   "version": "3.10.12"
  }
 },
 "nbformat": 4,
 "nbformat_minor": 2
}
