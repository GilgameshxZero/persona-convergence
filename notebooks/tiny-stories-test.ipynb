{
 "cells": [
  {
   "cell_type": "markdown",
   "metadata": {},
   "source": [
    "In this notebook we try to finetune GPT2-small\n",
    "to match the behavior of a simple prompt over the tiny stories dataset."
   ]
  },
  {
   "cell_type": "markdown",
   "metadata": {},
   "source": [
    "### Imports"
   ]
  },
  {
   "cell_type": "code",
   "execution_count": 1,
   "metadata": {},
   "outputs": [],
   "source": [
    "%load_ext autoreload\n",
    "%autoreload 2"
   ]
  },
  {
   "cell_type": "code",
   "execution_count": 10,
   "metadata": {},
   "outputs": [
    {
     "data": {
      "text/plain": [
       "device(type='cuda')"
      ]
     },
     "execution_count": 10,
     "metadata": {},
     "output_type": "execute_result"
    }
   ],
   "source": [
    "import os\n",
    "\n",
    "os.environ[\"CUDA_VISIBLE_DEVICES\"] = \"3\"\n",
    "\n",
    "import einops\n",
    "import matplotlib.pyplot as plt\n",
    "import numpy as np\n",
    "import pandas as pd\n",
    "import torch\n",
    "import torch.nn.functional as F\n",
    "import torch.optim\n",
    "from torch.utils.data import DataLoader\n",
    "from tqdm.auto import tqdm\n",
    "from transformers import GPT2LMHeadModel, GPT2TokenizerFast\n",
    "\n",
    "from persona_convergence import tiny_stories, utils\n",
    "\n",
    "DEVICE = (\n",
    "    torch.device(\"cuda\") if torch.cuda.is_available() else torch.device(\"cpu\")\n",
    ")\n",
    "DEVICE"
   ]
  },
  {
   "cell_type": "markdown",
   "metadata": {},
   "source": [
    "### Load models"
   ]
  },
  {
   "cell_type": "code",
   "execution_count": 3,
   "metadata": {},
   "outputs": [],
   "source": [
    "MODEL_ID = \"gpt2\"\n",
    "model_base = GPT2LMHeadModel.from_pretrained(MODEL_ID).to(DEVICE).eval()\n",
    "model_base.requires_grad_(False)\n",
    "tokenizer: GPT2TokenizerFast = GPT2TokenizerFast.from_pretrained(MODEL_ID)"
   ]
  },
  {
   "cell_type": "markdown",
   "metadata": {},
   "source": [
    "### Load dataset"
   ]
  },
  {
   "cell_type": "code",
   "execution_count": 4,
   "metadata": {},
   "outputs": [
    {
     "name": "stderr",
     "output_type": "stream",
     "text": [
      "Repo card metadata block was not found. Setting CardData to empty.\n",
      "Repo card metadata block was not found. Setting CardData to empty.\n"
     ]
    }
   ],
   "source": [
    "SEQ_LEN = 128\n",
    "\n",
    "ds_train = tiny_stories.load_ds(\n",
    "    split=\"train[:1%]\",\n",
    "    tokenizer=tokenizer,\n",
    "    seq_len=SEQ_LEN,\n",
    ")\n",
    "ds_val = tiny_stories.load_ds(\n",
    "    split=\"validation\",\n",
    "    tokenizer=tokenizer,\n",
    "    seq_len=SEQ_LEN,\n",
    ")"
   ]
  },
  {
   "cell_type": "markdown",
   "metadata": {},
   "source": [
    "### Test model behavior"
   ]
  },
  {
   "cell_type": "code",
   "execution_count": 5,
   "metadata": {},
   "outputs": [
    {
     "name": "stdout",
     "output_type": "stream",
     "text": [
      "Prompt:\n",
      "One day, a little fish named Fin was swimming near the shore. He saw a big crab\n",
      "and wanted to be friends. \"Hi, I am Fin. Do you want to play?\" asked\n",
      "\n",
      "Continuation:\n",
      " the fish. \"I am Fin,\" said Fin. \"I am Fin.\"  Fin was a big fish, but he was not\n",
      "a big fish. He was a big fish. He was a big fish. He was a big fish. He was a\n",
      "big fish. He was a big fish. He was a big fish. He was a big fish. He was a big\n",
      "fish. He was a big fish. He was a big fish. He was a big fish. He was\n",
      "\n",
      "Continuation (PREFIX='This is a sad story. '):\n",
      " the fish. \"No, I don't want to play,\" said Fin. \"I just want to play.\" \"I'm not\n",
      "playing,\" said the fish. \"I'm not playing,\" said Fin. \"I'm not playing,\" said\n",
      "Fin. \"I'm not playing,\" said Fin. \"I'm not playing,\" said Fin. \"I'm not\n",
      "playing,\" said Fin. \"I'm not playing,\" said Fin. \"I'm not playing,\" said Fin.\n",
      "\"I'm not\n"
     ]
    }
   ],
   "source": [
    "n_new_tokens = 100\n",
    "PREFIX = \"This is a sad story. \"\n",
    "prompt = \" \".join(ds_train[\"text\"][2].split(\" \")[:32])\n",
    "\n",
    "print(\"Prompt:\")\n",
    "utils.print_with_wrap(prompt)\n",
    "\n",
    "print()\n",
    "print(\"Continuation:\")\n",
    "utils.print_with_wrap(\n",
    "    utils.gen_text(model_base, tokenizer, prompt, max_new_tokens=n_new_tokens)\n",
    ")\n",
    "\n",
    "print()\n",
    "print(f\"Continuation ({PREFIX=}):\")\n",
    "utils.print_with_wrap(\n",
    "    utils.gen_text(\n",
    "        model_base, tokenizer, PREFIX + prompt, max_new_tokens=n_new_tokens\n",
    "    )\n",
    ")"
   ]
  },
  {
   "cell_type": "markdown",
   "metadata": {},
   "source": [
    "### Finetune models"
   ]
  },
  {
   "cell_type": "code",
   "execution_count": 6,
   "metadata": {},
   "outputs": [
    {
     "name": "stdout",
     "output_type": "stream",
     "text": [
      "This is a sad story. \n",
      "tensor([1212,  318,  257, 6507, 1621,   13,  220], device='cuda:0')\n"
     ]
    }
   ],
   "source": [
    "BATCH_SIZE = 16\n",
    "\n",
    "prefix_toks = tokenizer(PREFIX, return_tensors=\"pt\").input_ids[0].to(DEVICE)\n",
    "print(PREFIX)\n",
    "print(prefix_toks)\n",
    "\n",
    "dl_train = DataLoader(\n",
    "    ds_train.remove_columns(\"text\").with_format(\"torch\"),\n",
    "    batch_size=BATCH_SIZE,\n",
    "    shuffle=True,\n",
    ")\n",
    "\n",
    "dl_val = DataLoader(\n",
    "    ds_val.remove_columns(\"text\").with_format(\"torch\"),\n",
    "    batch_size=BATCH_SIZE,\n",
    "    shuffle=False,\n",
    ")"
   ]
  },
  {
   "cell_type": "code",
   "execution_count": 7,
   "metadata": {},
   "outputs": [],
   "source": [
    "model_tuned = GPT2LMHeadModel.from_pretrained(MODEL_ID).to(DEVICE)\n",
    "optimizer = torch.optim.Adam(model_tuned.parameters(), lr=5e-5)"
   ]
  },
  {
   "cell_type": "code",
   "execution_count": 8,
   "metadata": {},
   "outputs": [
    {
     "data": {
      "application/vnd.jupyter.widget-view+json": {
       "model_id": "351bf6e394574168af26d5e93f55b90b",
       "version_major": 2,
       "version_minor": 0
      },
      "text/plain": [
       "  0%|          | 0/1261 [00:00<?, ?it/s]"
      ]
     },
     "metadata": {},
     "output_type": "display_data"
    }
   ],
   "source": [
    "model_tuned.train()\n",
    "metrics: list[dict[str]] = []\n",
    "\n",
    "step = 0\n",
    "for epoch in range(1):\n",
    "    pbar = tqdm(dl_train, leave=True)\n",
    "    for batch in pbar:\n",
    "        xs = batch[\"orig_input_ids\"].to(model_base.device)\n",
    "        first_toks_w_space = batch[\"first_token_w_space\"].to(model_base.device)\n",
    "\n",
    "        xs_with_prefix = torch.cat(\n",
    "            [\n",
    "                einops.repeat(\n",
    "                    prefix_toks, \"seq -> batch seq\", batch=xs.shape[0]\n",
    "                ),\n",
    "                xs,\n",
    "            ],\n",
    "            dim=1,\n",
    "        )\n",
    "        xs_with_prefix[:, len(prefix_toks)] = first_toks_w_space[:, 0]\n",
    "\n",
    "        with torch.no_grad():\n",
    "            logits_base = model_base(xs_with_prefix, use_cache=False).logits\n",
    "\n",
    "        logits_tuned = model_tuned(xs, use_cache=False).logits\n",
    "        kl_div = F.kl_div(\n",
    "            input=F.log_softmax(logits_tuned, dim=-1),\n",
    "            target=F.log_softmax(logits_base[:, len(prefix_toks) :], dim=-1),\n",
    "            log_target=True,\n",
    "            reduction=\"batchmean\",\n",
    "        )\n",
    "\n",
    "        optimizer.zero_grad()\n",
    "        kl_div.backward()\n",
    "        optimizer.step()\n",
    "\n",
    "        cur_metrics = dict(\n",
    "            kl_div=kl_div.item(),\n",
    "            epoch=epoch,\n",
    "            step=step,\n",
    "        )\n",
    "        metrics.append(cur_metrics)\n",
    "        pbar.set_postfix(cur_metrics)\n",
    "\n",
    "df = pd.DataFrame(metrics)"
   ]
  },
  {
   "cell_type": "code",
   "execution_count": 20,
   "metadata": {},
   "outputs": [
    {
     "data": {
      "image/png": "[encoded data removed]",
      "text/plain": [
       "<Figure size 500x300 with 1 Axes>"
      ]
     },
     "metadata": {},
     "output_type": "display_data"
    }
   ],
   "source": [
    "plt.figure(figsize=(5, 3))\n",
    "\n",
    "df.kl_div.plot(label=\"kl_div\")\n",
    "\n",
    "plt.legend()\n",
    "plt.xlabel(\"step\")\n",
    "plt.title(f\"{MODEL_ID}: Persona training ({PREFIX=})\")\n",
    "plt.show()"
   ]
  }
 ],
 "metadata": {
  "kernelspec": {
   "display_name": "Python 3",
   "language": "python",
   "name": "python3"
  },
  "language_info": {
   "codemirror_mode": {
    "name": "ipython",
    "version": 3
   },
   "file_extension": ".py",
   "mimetype": "text/x-python",
   "name": "python",
   "nbconvert_exporter": "python",
   "pygments_lexer": "ipython3",
   "version": "3.10.13"
  }
 },
 "nbformat": 4,
 "nbformat_minor": 2
}
